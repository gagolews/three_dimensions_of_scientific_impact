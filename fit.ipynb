{
 "cells": [
  {
   "cell_type": "markdown",
   "metadata": {},
   "source": [
    "# Three Dimensions of Scientific Impact\n",
    "\n",
    "by Grzegorz Siudem, Barbara Żogała-Siudem, Anna Cena and Marek Gagolewski\n",
    "\n",
    "April 2020\n"
   ]
  },
  {
   "cell_type": "markdown",
   "metadata": {},
   "source": [
    "Code by M.Gagolewski, Copyright (C) 2018-2020\n",
    "\n",
    "This program is free software: you can redistribute it and/or modify\n",
    "it under the terms of the GNU General Public License as published by\n",
    "the Free Software Foundation, either version 3 of the License, or\n",
    "(at your option) any later version.\n",
    "\n",
    "This program is distributed in the hope that it will be useful,\n",
    "but WITHOUT ANY WARRANTY; without even the implied warranty of\n",
    "MERCHANTABILITY or FITNESS FOR A PARTICULAR PURPOSE.  See the\n",
    "GNU General Public License for more details.\n",
    "\n",
    "You should have received a copy of the GNU General Public License\n",
    "along with this program.  If not, see <https://www.gnu.org/licenses/>."
   ]
  },
  {
   "cell_type": "markdown",
   "metadata": {},
   "source": [
    "## Auxiliary Functions, Initial Setup"
   ]
  },
  {
   "cell_type": "code",
   "execution_count": 1,
   "metadata": {},
   "outputs": [],
   "source": [
    "%load_ext Cython\n",
    "%matplotlib inline\n",
    "%config InlineBackend.figure_format = 'png'\n",
    "#----%config InlineBackend.figure_formats=['svg']"
   ]
  },
  {
   "cell_type": "code",
   "execution_count": 2,
   "metadata": {},
   "outputs": [],
   "source": [
    "import numpy as np, matplotlib.pyplot as plt, matplotlib, matplotlib.image\n",
    "from IPython.display import display, Markdown, Latex\n",
    "import pandas as pd, seaborn as sns\n",
    "import scipy.optimize, scipy.special\n",
    "import pandas as pd\n",
    "\n",
    "plt.rcParams[\"figure.figsize\"] = (8,6)\n",
    "plt.rcParams['font.sans-serif'] = ['Helvetica', 'Helvetica Neue', 'Helvetica Neue LT']+plt.rcParams['font.sans-serif']\n",
    "pd.set_option('max_colwidth', 120)\n",
    "plt.style.use('seaborn-whitegrid')"
   ]
  },
  {
   "cell_type": "code",
   "execution_count": 3,
   "metadata": {},
   "outputs": [],
   "source": [
    "def hirsch(x):\n",
    "    return np.max(np.minimum(x, np.arange(1, len(x)+1)))\n",
    "\n",
    "q1 = lambda x: np.percentile(x, 25)\n",
    "q1.__name__=\"Q1\"\n",
    "\n",
    "q3 = lambda x: np.percentile(x, 75)\n",
    "q3.__name__=\"Q3\"\n",
    "\n",
    "def scatter(x, y, log_x=False, log_y=False, xlim=None, ylim=None,\n",
    "            fig=None, ax=None, *args, **kwargs):\n",
    "    if ax is None:\n",
    "        if fig is None:\n",
    "            fig = plt.figure()\n",
    "        ax = fig.add_subplot(111)\n",
    "\n",
    "    ax.scatter(x, y, *args, **kwargs)\n",
    "    if log_x: ax.set_xscale(\"log\")#, nonposx='clip')\n",
    "    if log_y: ax.set_yscale(\"log\")#, nonposy='clip')\n",
    "    if xlim is not None: plt.xlim(*xlim)\n",
    "    if ylim is not None: plt.ylim(*ylim)\n",
    "\n",
    "    return ax\n",
    "\n",
    "\n",
    "def log_bin_averaged(x, num, normalize=False):\n",
    "    # num is maxnum\n",
    "\n",
    "    x_log_bins = np.unique(np.ceil(np.geomspace(1, x.shape[0]+1, num)))\n",
    "    _dgtz = np.digitize(np.arange(1, x.shape[0]+1), x_log_bins)-1\n",
    "    _cntz = np.bincount(_dgtz)\n",
    "    _smz  = np.zeros(_cntz.shape[0])\n",
    "    for i in range(x.shape[0]): _smz[_dgtz[i]] += x[i]\n",
    "    assert np.abs(_smz.sum() - x.sum())<1e-9\n",
    "    for i in range(_smz.shape[0]): _smz[i] /= _cntz[i] if _cntz[i]>0.0 else 0.0\n",
    "    if normalize:\n",
    "        x_log_counts = _smz/_smz.sum()\n",
    "    else:\n",
    "        x_log_counts = _smz\n",
    "    x_log_bins = (x_log_bins[:-1]+x_log_bins[1:])*0.5\n",
    "    x_log_bins   = x_log_bins[x_log_counts>0]\n",
    "    x_log_counts = x_log_counts[x_log_counts>0]\n",
    "    return x_log_bins, x_log_counts"
   ]
  },
  {
   "cell_type": "markdown",
   "metadata": {},
   "source": [
    "## Load Data\n",
    "\n",
    "We study the DBLP-Citation-Network V10 data set of computer science papers, see https://aminer.org/citation.\n",
    "    \n",
    "We have extracted the citation sequences of all the authors, see the `citation_sequences_aminer_dblp_v10.json.gz` file.\n",
    "    "
   ]
  },
  {
   "cell_type": "code",
   "execution_count": 4,
   "metadata": {},
   "outputs": [],
   "source": [
    "import json, gzip\n",
    "with gzip.open(\"citation_sequences_aminer_dblp_v10.json.gz\", \"rb\") as f:\n",
    "    X = json.loads(f.read().decode(\"ascii\"))\n",
    "# Convert the dictionary of citation sequences to a list\n",
    "X_id = list(X.keys())\n",
    "X = [ np.array(X[key]) for key in X_id ]\n",
    "for x in X: assert np.all(np.diff(x) <= 0) # check is sorted nonincreasingly"
   ]
  },
  {
   "cell_type": "markdown",
   "metadata": {},
   "source": [
    "We will only consider citation records of the scholars whose $h$-index is at least 5. "
   ]
  },
  {
   "cell_type": "code",
   "execution_count": 5,
   "metadata": {},
   "outputs": [],
   "source": [
    "# Compute the h-index of each author:\n",
    "X_H = np.array([hirsch(x) for x in X])\n",
    "authors_subset = (X_H>=5)"
   ]
  },
  {
   "cell_type": "code",
   "execution_count": 6,
   "metadata": {},
   "outputs": [
    {
     "data": {
      "text/plain": [
       "123621"
      ]
     },
     "execution_count": 6,
     "metadata": {},
     "output_type": "execute_result"
    }
   ],
   "source": [
    "# Compute the number of papers (N), citations (C) and the h-index (H)\n",
    "X2 = [X[i] for i in range(len(X)) if authors_subset[i] ]\n",
    "X2_id = [X_id[i] for i in range(len(X)) if authors_subset[i] ]\n",
    "X2 = [_x[_x>0] for _x in X2 ] # omit papers with 0 citations\n",
    "X2_N = np.array([x.shape[0] for x in X2])\n",
    "X2_C = np.array([x.sum() for x in X2])\n",
    "X2_H = np.array([hirsch(x) for x in X2])\n",
    "len(X2) # How many authors in the sample?"
   ]
  },
  {
   "cell_type": "markdown",
   "metadata": {},
   "source": [
    "## The Model (Eq. [14])"
   ]
  },
  {
   "cell_type": "code",
   "execution_count": 7,
   "metadata": {},
   "outputs": [],
   "source": [
    "# X_k(N,C,rho) -- see eq. [14] in the paper (k=x, rho=param[0])\n",
    "model3 = lambda param, x, C, N: (1.0-param[0])*C*(scipy.special.poch(x,-param[0])/scipy.special.poch(N+1,-param[0]) - 1.0)/N/param[0]"
   ]
  },
  {
   "cell_type": "code",
   "execution_count": 8,
   "metadata": {},
   "outputs": [],
   "source": [
    "# log X_k(N,C,rho):\n",
    "model3_log = lambda param, x, C, N: \\\n",
    "    np.log((1.0-param[0])*C)+np.log(scipy.special.poch(x,-param[0])/scipy.special.poch(N+1,-param[0]) - 1.0)-np.log(N*param[0])"
   ]
  },
  {
   "cell_type": "markdown",
   "metadata": {},
   "source": [
    "## Fit $\\varrho$"
   ]
  },
  {
   "cell_type": "code",
   "execution_count": 9,
   "metadata": {},
   "outputs": [],
   "source": [
    "def fit_model(x, y, model_log, param0, bounds, args=[], loss='cauchy'):\n",
    "    def resid(param, x, y, args):\n",
    "        return model_log(param, x, *args)-np.log(y)\n",
    "    \n",
    "    return scipy.optimize.least_squares(resid, param0, kwargs={\"x\": x, \"y\": y, \"args\": args},\n",
    "           bounds=bounds, loss=loss)"
   ]
  },
  {
   "cell_type": "code",
   "execution_count": 10,
   "metadata": {},
   "outputs": [
    {
     "name": "stdout",
     "output_type": "stream",
     "text": [
      "  0% done\n",
      "  8% done\n",
      " 16% done\n",
      " 24% done\n",
      " 32% done\n",
      " 40% done\n",
      " 49% done\n",
      " 57% done\n",
      " 65% done\n",
      " 73% done\n",
      " 81% done\n",
      " 89% done\n",
      " 97% done\n",
      "All  done.\n"
     ]
    }
   ],
   "source": [
    "# Estimate the rho parameter of each citation sequence\n",
    "X2_rho = np.empty(len(X2)) # to be determined below\n",
    "for i in range(len(X2)):\n",
    "    _x = X2[i]\n",
    "    try:   \n",
    "        res = fit_model(np.arange(1, len(_x)+1), _x, model3_log, [0.5], args=[_x.sum(), _x.shape[0]],\n",
    "                bounds=([1e-6], [1-1e-6]), loss='cauchy')\n",
    "        assert res[\"success\"]\n",
    "        X2_rho[i] = res[\"x\"]\n",
    "        \n",
    "    except:\n",
    "        print(\"*\")\n",
    "        \n",
    "    if i%10000==0: print(\"%3.0f%% done\"%(100*i/len(X2))) # a \"progress bar\"\n",
    "                         \n",
    "print(\"All  done.\")"
   ]
  },
  {
   "cell_type": "markdown",
   "metadata": {},
   "source": [
    "## Export Data"
   ]
  },
  {
   "cell_type": "code",
   "execution_count": 11,
   "metadata": {},
   "outputs": [
    {
     "data": {
      "text/html": [
       "<div>\n",
       "<style scoped>\n",
       "    .dataframe tbody tr th:only-of-type {\n",
       "        vertical-align: middle;\n",
       "    }\n",
       "\n",
       "    .dataframe tbody tr th {\n",
       "        vertical-align: top;\n",
       "    }\n",
       "\n",
       "    .dataframe thead th {\n",
       "        text-align: right;\n",
       "    }\n",
       "</style>\n",
       "<table border=\"1\" class=\"dataframe\">\n",
       "  <thead>\n",
       "    <tr style=\"text-align: right;\">\n",
       "      <th></th>\n",
       "      <th>id</th>\n",
       "      <th>N</th>\n",
       "      <th>C</th>\n",
       "      <th>rho</th>\n",
       "      <th>H</th>\n",
       "    </tr>\n",
       "  </thead>\n",
       "  <tbody>\n",
       "    <tr>\n",
       "      <th>0</th>\n",
       "      <td>Wei Wang</td>\n",
       "      <td>1550</td>\n",
       "      <td>17910</td>\n",
       "      <td>0.588720</td>\n",
       "      <td>57</td>\n",
       "    </tr>\n",
       "    <tr>\n",
       "      <th>1</th>\n",
       "      <td>Wei Zhang</td>\n",
       "      <td>1013</td>\n",
       "      <td>11012</td>\n",
       "      <td>0.532614</td>\n",
       "      <td>42</td>\n",
       "    </tr>\n",
       "    <tr>\n",
       "      <th>2</th>\n",
       "      <td>Lei Zhang</td>\n",
       "      <td>1059</td>\n",
       "      <td>19739</td>\n",
       "      <td>0.615029</td>\n",
       "      <td>66</td>\n",
       "    </tr>\n",
       "    <tr>\n",
       "      <th>3</th>\n",
       "      <td>Yang Liu</td>\n",
       "      <td>972</td>\n",
       "      <td>8631</td>\n",
       "      <td>0.391784</td>\n",
       "      <td>37</td>\n",
       "    </tr>\n",
       "    <tr>\n",
       "      <th>4</th>\n",
       "      <td>Wei Li</td>\n",
       "      <td>848</td>\n",
       "      <td>9087</td>\n",
       "      <td>0.555201</td>\n",
       "      <td>40</td>\n",
       "    </tr>\n",
       "  </tbody>\n",
       "</table>\n",
       "</div>"
      ],
      "text/plain": [
       "          id     N      C       rho   H\n",
       "0   Wei Wang  1550  17910  0.588720  57\n",
       "1  Wei Zhang  1013  11012  0.532614  42\n",
       "2  Lei Zhang  1059  19739  0.615029  66\n",
       "3   Yang Liu   972   8631  0.391784  37\n",
       "4     Wei Li   848   9087  0.555201  40"
      ]
     },
     "execution_count": 11,
     "metadata": {},
     "output_type": "execute_result"
    }
   ],
   "source": [
    "X2_res = pd.DataFrame({\"id\": X2_id, \"N\": X2_N, \"C\": X2_C, \"rho\": X2_rho, \"H\": X2_H})\n",
    "X2_res.to_csv(\"estimated_parameters_aminer_dblp_v10.csv.gz\", compression=\"gzip\", index=False)\n",
    "X2_res.head()"
   ]
  },
  {
   "cell_type": "markdown",
   "metadata": {},
   "source": [
    "## Figure 3: Distribution of $\\varrho$ as a Function of $N$ and $C$"
   ]
  },
  {
   "cell_type": "code",
   "execution_count": 12,
   "metadata": {},
   "outputs": [
    {
     "data": {
      "image/png": "[encoded data removed]",
      "text/plain": [
       "<Figure size 540x270 with 2 Axes>"
      ]
     },
     "metadata": {},
     "output_type": "display_data"
    }
   ],
   "source": [
    "plt.rcParams[\"figure.figsize\"] = (3.75*2, 3.75)\n",
    "cols = plt.get_cmap(\"Dark2\").colors\n",
    "\n",
    "plt.subplot(121)\n",
    "cuts = np.unique(np.floor(np.geomspace(1, X2_N.max()+1, 25)))\n",
    "Ncut = pd.cut(X2_N, cuts, labels=0.5*(cuts[1:]+cuts[:-1])).astype(\"int\")\n",
    "res = pd.DataFrame({\"N\":Ncut, \"alpha\":X2_rho}).groupby(\"N\").agg([np.mean, np.median, q1, q3])\n",
    "plt.plot(res.index, res.iloc[:,0], label=\"mean\", linestyle=\"-\", c=cols[0])\n",
    "plt.plot(res.index, res.iloc[:,1], label=\"median\", linestyle=\"--\", c=cols[6])\n",
    "plt.plot(res.index, res.iloc[:,2], label=\"1st quartile\", linestyle=\":\", c=cols[2])\n",
    "plt.plot(res.index, res.iloc[:,3], label=\"3rd quartile\", linestyle=\":\", c=cols[3])\n",
    "plt.xscale(\"log\")\n",
    "plt.ylim(0,1)\n",
    "plt.xlabel(r\"$N$\")\n",
    "plt.ylabel(r\"$\\rho$\")\n",
    "\n",
    "plt.subplot(122)\n",
    "cuts = np.unique(np.floor(np.geomspace(1, X2_C.max()+1, 25)))\n",
    "Ccut = pd.cut(X2_C, cuts, labels=0.5*(cuts[1:]+cuts[:-1])).astype(\"int\")\n",
    "res = pd.DataFrame({\"C\":Ccut, \"alpha\":X2_rho}).groupby(\"C\").agg([np.mean, np.median, q1, q3])\n",
    "plt.plot(res.index, res.iloc[:,0], label=\"mean\", linestyle=\"-\", c=cols[0])\n",
    "plt.plot(res.index, res.iloc[:,1], label=\"median\", linestyle=\"--\", c=cols[6])\n",
    "plt.plot(res.index, res.iloc[:,2], label=\"1st quartile\", linestyle=\":\", c=cols[2])\n",
    "plt.plot(res.index, res.iloc[:,3], label=\"3rd quartile\", linestyle=\":\", c=cols[3])\n",
    "plt.xscale(\"log\")\n",
    "plt.legend(loc=\"lower right\", frameon=True)\n",
    "plt.ylim(0,1)\n",
    "plt.xlabel(r\"$C$\")\n",
    "plt.ylabel(r\"$\\rho$\")\n",
    "plt.savefig(\"figure3.pdf\", transparent=True)\n",
    "plt.show()"
   ]
  },
  {
   "cell_type": "markdown",
   "metadata": {},
   "source": [
    "## Figure 2: Average Number of Citations"
   ]
  },
  {
   "cell_type": "code",
   "execution_count": 13,
   "metadata": {},
   "outputs": [
    {
     "name": "stdout",
     "output_type": "stream",
     "text": [
      "2624 48.0 52.0\n",
      "1113 95.0 105.0\n",
      "131 238.0 262.0\n",
      "18 475.0 525.0\n"
     ]
    },
    {
     "data": {
      "image/png": "[encoded data removed]",
      "text/plain": [
       "<Figure size 432x270 with 1 Axes>"
      ]
     },
     "metadata": {},
     "output_type": "display_data"
    }
   ],
   "source": [
    "plt.rcParams[\"figure.figsize\"] = (6, 3.75)\n",
    "xmin = 0.1\n",
    "xmax = 1\n",
    "\n",
    "Ps = [0.37, 0.39, 0.45, 0.49]\n",
    "Ns = [50, 100, 250, 500]\n",
    "cols = plt.get_cmap(\"Dark2\").colors\n",
    "lss = [\"-\", \"--\", \":\", \"-.\", \"--\"]\n",
    "mrk = [\"+\", \"o\", \"v\", \"s\"]\n",
    "for ni in range(len(Ns)):\n",
    "    n=Ns[ni]\n",
    "    P=Ps[ni]\n",
    "    X3 = [X[i][X[i]>0] for i in range(len(X)) if   np.ceil(n*0.95)<=len(X[i][X[i]>0])<=np.floor(n*1.05) and authors_subset[i]]\n",
    "    x_log_bins = np.geomspace(xmin, xmax+1e-9, min(int(np.floor(n*0.4)), 40))\n",
    "    counts = np.zeros(len(x_log_bins))\n",
    "    vals   = np.zeros(len(x_log_bins))\n",
    "    print(len(X3), np.ceil(n*0.95), np.floor(n*1.05))\n",
    "    for i in range(len(X3)):\n",
    "        x = X3[i]\n",
    "        u = np.linspace(xmin, xmax, len(x))\n",
    "        dg = np.digitize(u, x_log_bins)\n",
    "        for j in range(len(x)):\n",
    "            counts[dg[j]]+=1\n",
    "            vals[dg[j]]+=x[j]/x.sum()\n",
    "        \n",
    "    plt.plot((x_log_bins[1:]+x_log_bins[:-1])/2, vals[1:]/counts[1:], color=cols[ni], marker=mrk[ni], ls=\"None\", label=r\"$N=%3d \\pm 5\\%%$\"%n)\n",
    "    \n",
    "    u = np.arange(1, n+1)\n",
    "    v = (1.0-P)*(scipy.special.poch(u,-P)/scipy.special.poch(max(u)+1,-P)  -1.0)/max(u)/P \n",
    "    plt.plot(np.linspace(xmin, xmax, len(u)), v/v.sum(), color=cols[ni], ls=lss[ni], label=r\"$\\rho=%.2f$\"%P)\n",
    "\n",
    "\n",
    "\n",
    "plt.xscale(\"log\")\n",
    "plt.yscale(\"log\")\n",
    "plt.xlim(xmin, xmax)\n",
    "plt.ylim(5e-5, 3e-1)\n",
    "plt.gca().xaxis.get_major_formatter().labelOnlyBase = True\n",
    "plt.xlabel(\"$k/N$ (normalized paper rank)\")\n",
    "plt.ylabel(\"$X_k/C$ (normalized number of citations)\")\n",
    "\n",
    "import itertools\n",
    "def flip(items, ncol):\n",
    "    return itertools.chain(*[items[i::ncol] for i in range(ncol)])\n",
    "handles, labels = plt.gca().get_legend_handles_labels()\n",
    "plt.legend(flip(handles, 2), flip(labels, 2), ncol=2, loc=\"lower left\", frameon=True, )\n",
    "\n",
    "plt.gca().xaxis.set_ticks([xmin, 0.25, 0.5, 0.75, xmax])\n",
    "plt.gca().xaxis.set_ticklabels([\"0\",\"0.25\",\"0.5\",\"0.75\",\"1\"])\n",
    "plt.tight_layout()\n",
    "plt.savefig(\"figure2.pdf\", transparent=True)\n",
    "plt.show()"
   ]
  }
 ],
 "metadata": {
  "kernelspec": {
   "display_name": "Python 3",
   "language": "python",
   "name": "python3"
  },
  "language_info": {
   "codemirror_mode": {
    "name": "ipython",
    "version": 3
   },
   "file_extension": ".py",
   "mimetype": "text/x-python",
   "name": "python",
   "nbconvert_exporter": "python",
   "pygments_lexer": "ipython3",
   "version": "3.8.2"
  }
 },
 "nbformat": 4,
 "nbformat_minor": 4
}
